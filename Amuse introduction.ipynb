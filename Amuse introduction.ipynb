{
 "cells": [
  {
   "cell_type": "markdown",
   "metadata": {},
   "source": [
    "# Amuse tutorial"
   ]
  },
  {
   "cell_type": "markdown",
   "metadata": {},
   "source": [
    "To start with AMUSE, first open an iPython terminal (or Jupyter notebook).\n",
    "\n",
    "To use AMUSE, it must first be imported.\n",
    "A quick and dirty way to do this (preferably not used in production, but it can be useful for quick testing) is:\n",
    "```python\n",
    "from amuse.lab import *\n",
    "```\n",
    "In production, it is better to just import the specific modules needed, to improve the clarity of the code:"
   ]
  },
  {
   "cell_type": "code",
   "execution_count": null,
   "metadata": {},
   "outputs": [],
   "source": [
    "from amuse.datamodel import Particles\n",
    "from amuse.units import units, constants\n",
    "from amuse.ic.plummer import new_plummer_model"
   ]
  },
  {
   "cell_type": "markdown",
   "metadata": {},
   "source": [
    "## Quantities and units"
   ]
  },
  {
   "cell_type": "markdown",
   "metadata": {},
   "source": [
    "One of the features of AMUSE is that it has Quantities, e.g. values with a unit attached to it.\n",
    "Units can be automatically converted to other units of the same type (e.g. parsec to lightyear), while an operation which should be illegal (e.g. adding a length to a mass) will result in an incompatible units exception:"
   ]
  },
  {
   "cell_type": "code",
   "execution_count": null,
   "metadata": {},
   "outputs": [],
   "source": [
    "distance = 1 | units.parsec\n",
    "another_distance = 1 | units.lightyear\n",
    "print(distance + another_distance)\n",
    "print((distance + another_distance).in_(units.AU))\n",
    "weight = 1 | units.MSun\n",
    "distance + weight"
   ]
  },
  {
   "cell_type": "markdown",
   "metadata": {},
   "source": [
    "We can also define new units:"
   ]
  },
  {
   "cell_type": "code",
   "execution_count": null,
   "metadata": {},
   "outputs": [],
   "source": [
    "from amuse.units.derivedsi import named\n",
    "\n",
    "lightminute = named(\n",
    "    \"lightminute\",  # Name of the unit\n",
    "    \"lmin\",  # Symbol\n",
    "    (constants.c * units.minute).to_unit()  # the unit to be named\n",
    ")\n",
    "print(1 | lightminute)\n",
    "print((1 | lightminute).in_(units.AU))"
   ]
  },
  {
   "cell_type": "markdown",
   "metadata": {},
   "source": [
    "A VectorQuantity is the equivalent of a Numpy array with a single unit:"
   ]
  },
  {
   "cell_type": "code",
   "execution_count": null,
   "metadata": {},
   "outputs": [],
   "source": [
    "position = [1.0, 0.0, 0.0] | units.AU\n",
    "print(position)\n",
    "print(1 | lightminute)\n",
    "print((1 | lightminute).in_(units.lightyear))\n",
    "print(position.in_(lightminute))"
   ]
  },
  {
   "cell_type": "markdown",
   "metadata": {},
   "source": [
    "Amuse also supports non-SI units, e.g. \"generic\" units (as may be used internally in codes) and \"N-body\" or Hénon units (a specifically normalised system in which G=1, often used in N-body codes):"
   ]
  },
  {
   "cell_type": "code",
   "execution_count": null,
   "metadata": {},
   "outputs": [],
   "source": [
    "from amuse.units import generic_unit_system, nbody_system"
   ]
  },
  {
   "cell_type": "markdown",
   "metadata": {},
   "source": [
    "To convert between internal units of a code and physical units, we use a converter. The converter determines the scale of a problem in a code, so it is important to choose the right scale units."
   ]
  },
  {
   "cell_type": "code",
   "execution_count": null,
   "metadata": {},
   "outputs": [],
   "source": [
    "mass_scale = 100 | units.MSun\n",
    "length_scale = 3 | units.parsec\n",
    "converter = nbody_system.nbody_to_si(mass_scale, length_scale,)\n",
    "print(converter.to_nbody(100 | units.MSun))\n",
    "print(converter.to_nbody(1 | units.parsec))\n",
    "print(converter.to_nbody(1 | units.Myr))\n",
    "print(converter.to_si(1 | nbody_system.time).in_(units.Myr))\n",
    "print(converter.to_si(1 | nbody_system.speed).in_(units.km * units.s**-1))"
   ]
  },
  {
   "cell_type": "markdown",
   "metadata": {},
   "source": [
    "At the core of AMUSE is the particles datamodel. A particle can have any number of attributes, a particleset is a set of particles with the same attributes defined. \n",
    "Each particle has a unique key, which is randomly generated and never repeated."
   ]
  },
  {
   "cell_type": "code",
   "execution_count": null,
   "metadata": {},
   "outputs": [],
   "source": [
    "from amuse.datamodel import Particles, Particle\n",
    "\n",
    "p0 = Particle()\n",
    "p0.name = \"Particle Zero\"\n",
    "p = Particles()\n",
    "\n",
    "print(p0)\n",
    "print(p)"
   ]
  },
  {
   "cell_type": "markdown",
   "metadata": {},
   "source": [
    "Particles can be added to or subtracted from particlesets (note that the same particle can be in a particleset more than once):"
   ]
  },
  {
   "cell_type": "code",
   "execution_count": null,
   "metadata": {},
   "outputs": [],
   "source": [
    "p.add_particle(p0)\n",
    "q = Particles(3)\n",
    "q.name = list(\"Particle %i\" % i for i in range(1,1+len(q)))\n",
    "print(q)\n",
    "p.add_particles(q)\n",
    "print(p)\n",
    "p.remove_particle(q[0])\n",
    "print(p)"
   ]
  },
  {
   "cell_type": "markdown",
   "metadata": {},
   "source": [
    "Particlesets support many useful operations, like center_of_mass; center_of_mass_velocity; kinetic_energy etc."
   ]
  },
  {
   "cell_type": "code",
   "execution_count": null,
   "metadata": {},
   "outputs": [],
   "source": [
    "speed = named(\"speed\", \"speed\", nbody_system.length * nbody_system.time**-1)\n",
    "energy = named(\"energy\", \"energy\", nbody_system.length**2 * nbody_system.time**-2 * nbody_system.mass)\n",
    "\n",
    "from amuse.ic.plummer import new_plummer_model\n",
    "particles = new_plummer_model(100)\n",
    "print(particles.center_of_mass())\n",
    "print(particles.center_of_mass_velocity().in_(speed))\n",
    "print(particles.kinetic_energy().in_(energy))\n",
    "print(particles.potential_energy(G=nbody_system.G).in_(energy))"
   ]
  },
  {
   "cell_type": "markdown",
   "metadata": {},
   "source": [
    "A lot of \"standard\" initial condition generators are defined in `amuse.ic`, e.g. for generating a Plummer sphere, a Salpeter initial mass function, and many more (have a look!). Some other, more complex initial condition generators can be found in `amuse.ext`, e.g. for a molecular cloud."
   ]
  },
  {
   "cell_type": "code",
   "execution_count": null,
   "metadata": {},
   "outputs": [],
   "source": [
    "from amuse.ext.molecular_cloud import molecular_cloud\n",
    "\n",
    "converter = nbody_system.nbody_to_si(5000 | units.MSun, 5 | units.parsec)\n",
    "\n",
    "mc = molecular_cloud(targetN=10000, convert_nbody=converter).result"
   ]
  },
  {
   "cell_type": "code",
   "execution_count": null,
   "metadata": {},
   "outputs": [],
   "source": [
    "print(\"Centre of mass: \", mc.center_of_mass().in_(units.parsec))\n",
    "print(\"Centre of mass velocity: \", mc.center_of_mass_velocity().in_(units.kms))\n",
    "print(\"Mean distance to the coordinate centre: \", mc.position.lengths().mean().in_(units.parsec))"
   ]
  },
  {
   "cell_type": "code",
   "execution_count": null,
   "metadata": {},
   "outputs": [],
   "source": []
  }
 ],
 "metadata": {
  "kernelspec": {
   "display_name": "Python 3",
   "language": "python",
   "name": "python3"
  },
  "language_info": {
   "codemirror_mode": {
    "name": "ipython",
    "version": 3
   },
   "file_extension": ".py",
   "mimetype": "text/x-python",
   "name": "python",
   "nbconvert_exporter": "python",
   "pygments_lexer": "ipython3",
   "version": "3.6.7"
  }
 },
 "nbformat": 4,
 "nbformat_minor": 2
}
