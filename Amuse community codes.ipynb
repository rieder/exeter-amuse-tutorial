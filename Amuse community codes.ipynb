{
 "cells": [
  {
   "cell_type": "markdown",
   "metadata": {},
   "source": [
    "# AMUSE: Community codes"
   ]
  },
  {
   "cell_type": "code",
   "execution_count": null,
   "metadata": {},
   "outputs": [],
   "source": [
    "import numpy\n",
    "numpy.random.seed(11)\n",
    "from amuse.lab import *\n",
    "from amuse.support.console import set_printing_strategy\n",
    "set_printing_strategy(\n",
    "    \"custom\",\n",
    "    preferred_units=[units.MSun, units.parsec, units.Myr, units.kms],\n",
    "    precision=6, prefix=\"\", separator=\" [\", suffix=\"]\",\n",
    ")\n",
    "converter = nbody_system.nbody_to_si(1 | units.parsec, 1000 | units.MSun)"
   ]
  },
  {
   "cell_type": "markdown",
   "metadata": {},
   "source": [
    "Amuse contains many community codes, which can be found in amuse.community.\n",
    "These are often codes that have been in use as standalone codes for a long time (e.g. Gadget2), but some are unique to AMUSE (e.g. ph4, a 4th order parallel Hermite N-body integrator with GPU support).\n",
    "\n",
    "Each community code must be instantiated to start it, after which parameters can be set and particles added.\n",
    "\n",
    "The code can then be instructed to evolve the particles to a specific time. Once it reaches this time, the code can be called again, or it can be stopped, removing it from memory and stopping the running process(es)."
   ]
  },
  {
   "cell_type": "code",
   "execution_count": null,
   "metadata": {},
   "outputs": [],
   "source": [
    "test_sphere = new_plummer_model(1000, converter)\n",
    "test_sphere.mass = new_salpeter_mass_distribution(1000, mass_min=0.3 | units.MSun)\n",
    "def new_gravity(particles):\n",
    "    gravity = ph4(converter, number_of_workers=1)\n",
    "    gravity.parameters.epsilon_squared = (0.01 | units.parsec)**2\n",
    "    gravity.particles.add_particles(particles)\n",
    "    gravity_to_model = gravity.particles.new_channel_to(particles)\n",
    "    return gravity, gravity_to_model\n",
    "gravity, gravity_to_model = new_gravity(test_sphere)\n",
    "\n",
    "print(test_sphere.center_of_mass())\n",
    "print(gravity.particles.center_of_mass())\n",
    "gravity.evolve_model(0.1 | units.Myr)\n",
    "print(gravity.particles.center_of_mass())\n",
    "print(test_sphere.center_of_mass())\n",
    "\n",
    "gravity.stop()"
   ]
  },
  {
   "cell_type": "markdown",
   "metadata": {},
   "source": [
    "Note that the original particles (`test_sphere`) were not modified, while those maintained by the code were (for performance reasons). Also, small numerical errors can arise at this point, the magnitude of which depends on the chosen converter units.\n",
    "\n",
    "To synchronise the particle sets, AMUSE uses \"channels\". These can copy the required data when needed, e.g. when synchronising changes in particle properties to other codes."
   ]
  },
  {
   "cell_type": "code",
   "execution_count": null,
   "metadata": {},
   "outputs": [],
   "source": [
    "gravity, gravity_to_model = new_gravity(test_sphere)\n",
    "\n",
    "print(gravity.particles.center_of_mass())\n",
    "gravity.evolve_model(0.1 | units.Myr)\n",
    "gravity_to_model.copy()\n",
    "print(gravity.particles.center_of_mass())\n",
    "print(test_sphere.center_of_mass())\n",
    "\n",
    "gravity.stop()"
   ]
  },
  {
   "cell_type": "markdown",
   "metadata": {},
   "source": [
    "## Combining codes: gravity and stellar evolution"
   ]
  },
  {
   "cell_type": "markdown",
   "metadata": {},
   "source": [
    "In a simulation of a star cluster, we may want to combine several codes to address different parts of the problem:\n",
    "- an N-body code for gravity,\n",
    "- a stellar evolution code\n",
    "\n",
    "In the simplest case, these interact only via the stellar mass, which is changed over time by the stellar evolution code and then updated in the gravity code."
   ]
  },
  {
   "cell_type": "code",
   "execution_count": null,
   "metadata": {},
   "outputs": [],
   "source": [
    "def new_evolution(particles):\n",
    "    evolution = SSE()\n",
    "    evolution.parameters.metallicity = 0.01\n",
    "    evolution.particles.add_particles(particles)\n",
    "    evolution_to_model = evolution.particles.new_channel_to(particles)\n",
    "    return evolution, evolution_to_model\n",
    "\n",
    "evolution, evolution_to_model = new_evolution(test_sphere)\n",
    "gravity, gravity_to_model = new_gravity(test_sphere)\n",
    "model_to_gravity = test_sphere.new_channel_to(gravity.particles)\n",
    "\n",
    "time = gravity.model_time\n",
    "end_time = 1 | units.Myr\n",
    "while time < end_time:\n",
    "    timestep = evolution.particles.time_step.min()\n",
    "    gravity.evolve_model(time+timestep/2)\n",
    "    evolution.evolve_model(time+timestep)\n",
    "    evolution_to_model.copy()\n",
    "    model_to_gravity.copy()\n",
    "    gravity.evolve_model(time+timestep)\n",
    "    time += timestep\n",
    "    print(\"Now at time %s.\" % gravity.model_time, end=\" \")\n",
    "    print(\"The most massive star is now %s\" % test_sphere.mass.max())\n",
    "evolution.stop()\n",
    "gravity.stop()"
   ]
  },
  {
   "cell_type": "markdown",
   "metadata": {},
   "source": [
    "Note that the timestep is now set by the stellar evolution code, and is based on the evolution timescale of the stellar mass."
   ]
  }
 ],
 "metadata": {
  "kernelspec": {
   "display_name": "Python 3",
   "language": "python",
   "name": "python3"
  },
  "language_info": {
   "codemirror_mode": {
    "name": "ipython",
    "version": 3
   },
   "file_extension": ".py",
   "mimetype": "text/x-python",
   "name": "python",
   "nbconvert_exporter": "python",
   "pygments_lexer": "ipython3",
   "version": "3.6.7"
  }
 },
 "nbformat": 4,
 "nbformat_minor": 2
}
