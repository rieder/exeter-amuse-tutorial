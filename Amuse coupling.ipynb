{
 "cells": [
  {
   "cell_type": "markdown",
   "metadata": {},
   "source": [
    "# AMUSE: coupling codes"
   ]
  },
  {
   "cell_type": "code",
   "execution_count": null,
   "metadata": {},
   "outputs": [],
   "source": [
    "%matplotlib inline\n",
    "import numpy\n",
    "numpy.random.seed(11)\n",
    "from amuse.lab import *\n",
    "from amuse.support.console import set_printing_strategy\n",
    "set_printing_strategy(\n",
    "    \"custom\",\n",
    "    preferred_units=[units.MSun, units.parsec, units.Myr, units.kms],\n",
    "    precision=6, prefix=\"\", separator=\" [\", suffix=\"]\",\n",
    ")\n",
    "converter = nbody_system.nbody_to_si(1 | units.parsec, 1000 | units.MSun)\n",
    "test_sphere = new_plummer_model(1000, converter)\n",
    "test_sphere.mass = new_salpeter_mass_distribution(1000, mass_min=0.3 | units.MSun)\n",
    "def new_gravity(particles):\n",
    "    gravity = ph4(converter, number_of_workers=1)\n",
    "    gravity.parameters.epsilon_squared = (0.01 | units.parsec)**2\n",
    "    gravity.particles.add_particles(particles)\n",
    "    gravity_to_model = gravity.particles.new_channel_to(particles)\n",
    "    return gravity, gravity_to_model"
   ]
  },
  {
   "cell_type": "markdown",
   "metadata": {},
   "source": [
    "One of the main advantages of AMUSE is that we can use it to combine codes. This way we can address a problem that involves multiple scales and/or physical processes.\n",
    "\n",
    "The perhaps simplest case is combining gravity with a stellar evolution code, where the coupling is one-way only. A more complex case is when we want to couple a hydrodynamical code with a high-precision gravity solver, e.g. for simulating a star cluster embedded in a molecular cloud. In this case, we need both systems to interact via gravity, and a special method is required.\n",
    "\n",
    "In AMUSE, the Bridge module is designed for this. In Bridge, we can add multiple systems and specify which other systems each of these needs to interact with. By default, this interaction is then executed via a leapfrog-type integration, but higher order methods are available (if supported by the underlaying systems)."
   ]
  },
  {
   "cell_type": "code",
   "execution_count": null,
   "metadata": {},
   "outputs": [],
   "source": [
    "from amuse.couple.bridge import Bridge\n",
    "def new_sph(particles):\n",
    "    sph = Fi(converter, mode=\"openmp\")\n",
    "    # Note that most SPH codes support DM particles as well, so \n",
    "    # we need to specifically add particles to \"gas_particles\"\n",
    "    sph.gas_particles.add_particles(particles)\n",
    "    sph.parameters.timestep = 0.05 | units.Myr\n",
    "    sph_to_model = sph.gas_particles.new_channel_to(particles)\n",
    "    return sph, sph_to_model\n",
    "test_gas = new_plummer_gas_model(1000, converter)"
   ]
  },
  {
   "cell_type": "markdown",
   "metadata": {},
   "source": [
    "To show the interaction, I will add one obvious particle to follow"
   ]
  },
  {
   "cell_type": "code",
   "execution_count": null,
   "metadata": {},
   "outputs": [],
   "source": [
    "leftmost_particle = test_sphere.select(\n",
    "    lambda x:\n",
    "    x == test_sphere.x.min(),\n",
    "    [\"x\"]\n",
    ")\n",
    "leftmost_particle.mass = 100 | units.MSun\n",
    "leftmost_particle.position = [-2, 0, 0] | units.parsec\n",
    "leftmost_particle.velocity = [0, 1.5, 0] | units.parsec * units.Myr**-1"
   ]
  },
  {
   "cell_type": "code",
   "execution_count": null,
   "metadata": {},
   "outputs": [],
   "source": [
    "sph, sph_to_model = new_sph(test_gas)\n",
    "gravity, gravity_to_model = new_gravity(test_sphere)\n",
    "\n",
    "system = Bridge(timestep=2 * sph.parameters.timestep)\n",
    "\n",
    "system.add_system(\n",
    "    gravity,  # System to be influenced\n",
    "    partners=[sph],  # List of partner codes that will affect the system\n",
    ")\n",
    "system.add_system(\n",
    "    sph,\n",
    "    partners=[gravity],\n",
    ")"
   ]
  },
  {
   "cell_type": "code",
   "execution_count": null,
   "metadata": {},
   "outputs": [],
   "source": [
    "from plotting_class import plot_hydro_and_stars\n",
    "plot_hydro_and_stars(system.model_time, sph, test_sphere,)"
   ]
  },
  {
   "cell_type": "code",
   "execution_count": null,
   "metadata": {},
   "outputs": [],
   "source": [
    "time = system.model_time\n",
    "tend = 2.0 | units.Myr\n",
    "while time <= tend:\n",
    "    time += 0.2 | units.Myr\n",
    "    print(\"Evolving to %s\" % time)\n",
    "    system.evolve_model(time)\n",
    "    gravity_to_model.copy()\n",
    "    plot_hydro_and_stars(system.model_time, sph, test_sphere, title=\"%s\" % time)"
   ]
  },
  {
   "cell_type": "code",
   "execution_count": null,
   "metadata": {},
   "outputs": [],
   "source": [
    "gravity.stop()\n",
    "sph.stop()"
   ]
  },
  {
   "cell_type": "code",
   "execution_count": null,
   "metadata": {},
   "outputs": [],
   "source": []
  }
 ],
 "metadata": {
  "kernelspec": {
   "display_name": "Python 3",
   "language": "python",
   "name": "python3"
  },
  "language_info": {
   "codemirror_mode": {
    "name": "ipython",
    "version": 3
   },
   "file_extension": ".py",
   "mimetype": "text/x-python",
   "name": "python",
   "nbconvert_exporter": "python",
   "pygments_lexer": "ipython3",
   "version": "3.6.7"
  }
 },
 "nbformat": 4,
 "nbformat_minor": 2
}
